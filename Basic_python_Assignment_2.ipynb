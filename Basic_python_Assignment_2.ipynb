{
 "cells": [
  {
   "cell_type": "code",
   "execution_count": null,
   "id": "2ca7d3d6",
   "metadata": {},
   "outputs": [],
   "source": [
    "1. What are the two values of the Boolean data type? How do you write them?\n",
    "\n",
    "\n",
    "Ans  =   True (1) and False(0) are the two values of Boolean data type and write them T and  F\n",
    "\n"
   ]
  },
  {
   "cell_type": "code",
   "execution_count": null,
   "id": "b5190ee4",
   "metadata": {},
   "outputs": [],
   "source": [
    "2. What are the three different types of Boolean operators?\n",
    "Ans =  AND, OR and NOT.\n"
   ]
  },
  {
   "cell_type": "code",
   "execution_count": null,
   "id": "0fabe840",
   "metadata": {},
   "outputs": [],
   "source": [
    "3. Make a list of each Boolean operator's truth tables\n",
    "(i.e. every possible combination of Boolean values for the operator and what it evaluate ).\n",
    " \n",
    "Ans = \n",
    "True and True is True.\n",
    "\n",
    "True and False is False.\n",
    "\n",
    "False and True is False.\n",
    "\n",
    "False and False is False.\n",
    "\n",
    "True or True is True.\n",
    "\n",
    "True or False is True.\n",
    "\n",
    "False or True is True.\n",
    "\n",
    "False or False is False.\n",
    "\n",
    "not True is False.\n",
    "\n",
    "not False is True.\n",
    "\n",
    "True is 1 and False is 0\n",
    "\n",
    "Truth Table for AND\n",
    "A B output\n",
    "0 0  0\n",
    "0 1  0\n",
    "1 0  0\n",
    "1 1  1\n",
    "Truth Table for OR\n",
    "A B output\n",
    "0 0  0\n",
    "0 1  1\n",
    "1 0  1\n",
    "1 1  1\n",
    "Truth Table for NOT\n",
    "A output\n",
    "0  1\n",
    "1  0\n"
   ]
  },
  {
   "cell_type": "code",
   "execution_count": 1,
   "id": "650f9c69",
   "metadata": {},
   "outputs": [
    {
     "name": "stdout",
     "output_type": "stream",
     "text": [
      "False\n",
      "False\n",
      "True\n",
      "False\n",
      "False\n",
      "True\n"
     ]
    }
   ],
   "source": [
    "#4. What are the values of the following expressions?\n",
    "print((5>4) and (3==5))\n",
    "print(not(5>4))\n",
    "print((5>4) or (3==5))\n",
    "print(not(5>4) or (3==5))\n",
    "print((True and True) and (True==False))\n",
    "print((not(False))or(not(True)))\n"
   ]
  },
  {
   "cell_type": "code",
   "execution_count": null,
   "id": "430cf4b6",
   "metadata": {},
   "outputs": [],
   "source": [
    "5. What are the six comparison operators?\n",
    ">     greater than\n",
    "<     less than\n",
    "==    equal to\n",
    "!=    not equal to\n",
    ">=    greaterthan or equal to\n",
    "<=    lessthan or equal to\n",
    "     "
   ]
  },
  {
   "cell_type": "code",
   "execution_count": 5,
   "id": "e68a7564",
   "metadata": {},
   "outputs": [
    {
     "name": "stdout",
     "output_type": "stream",
     "text": [
      "False\n",
      "k = 452\n"
     ]
    }
   ],
   "source": [
    "#6. How do you tell the difference between the equal to and assignment operators?Describe a\n",
    "#condition and when you would use one.\n",
    "#Ans = \n",
    "# Equal To Operator\n",
    "if(10==9):\n",
    "    print(\"True\")\n",
    "else:\n",
    "    print(\"False\")\n",
    " \n",
    "\n",
    " #Assignment operator\n",
    "k=452 #here we have used assignment operator(=) to assign value of k which is 452\n",
    "print(\"k =\",k)\n"
   ]
  },
  {
   "cell_type": "code",
   "execution_count": 9,
   "id": "3057e5b7",
   "metadata": {},
   "outputs": [
    {
     "name": "stdout",
     "output_type": "stream",
     "text": [
      "ham\n",
      "spam\n",
      "spam\n"
     ]
    }
   ],
   "source": [
    "#7. Identify the three blocks in this code:\n",
    "spam = 0\n",
    "if spam == 10:\n",
    "    print(eggs)  #block 1\n",
    "if spam>5:\n",
    "    print(bacon) #block 2\n",
    "else:\n",
    "    print('ham')  #block 3\n",
    "    print('spam')\n",
    "    print('spam')\n"
   ]
  },
  {
   "cell_type": "code",
   "execution_count": 11,
   "id": "edc89c4a",
   "metadata": {},
   "outputs": [
    {
     "name": "stdout",
     "output_type": "stream",
     "text": [
      "Input a number 10\n",
      "Greetings!\n"
     ]
    }
   ],
   "source": [
    "#8. Write code that prints Hello if 1 is stored in spam, prints Howdy if 2 is stored in spam, and prints\n",
    "#Greetings! if anything else is stored in spam.\n",
    "#Ans=  \n",
    "spam = int(input(\"Input a number \"))\n",
    "if spam == 1:\n",
    "    print(\"Hello\")\n",
    "elif spam == 2:\n",
    "    print(\"Howdy\")\n",
    "else:\n",
    "    print(\"Greetings!\")\n",
    "        \n",
    "\n"
   ]
  },
  {
   "cell_type": "code",
   "execution_count": null,
   "id": "3a596b27",
   "metadata": {},
   "outputs": [],
   "source": [
    "\n",
    "9.If your programme is stuck in an endless loop, what keys you’ll press?\n",
    "\n",
    "Ans =  ctrl+c"
   ]
  },
  {
   "cell_type": "code",
   "execution_count": 48,
   "id": "7eb9bbce",
   "metadata": {},
   "outputs": [
    {
     "name": "stdout",
     "output_type": "stream",
     "text": [
      "Enter your number 7\n",
      "0\n",
      "1\n",
      "2\n",
      "3\n",
      "4\n",
      "Enter your number 10\n",
      "0\n",
      "1\n",
      "2\n",
      "3\n",
      "4\n",
      "5\n",
      "6\n",
      "8\n",
      "9\n"
     ]
    }
   ],
   "source": [
    "#10. How can you tell the difference between break and continue?\n",
    "\n",
    "#Ans = in program you want to stop the loop  their break statement is use and With the continue statement we can\n",
    "#stop the current iteration of the loop,and continue with the next \n",
    "\n",
    "num=input(\"Enter your number \")\n",
    "for i in range(int(num)):\n",
    "    if i==5:\n",
    "        break\n",
    "    print(f\"{i}\")\n",
    "\n",
    "num=input(\"Enter your number \")\n",
    "for i in range(int(num)):\n",
    "    if i==7:\n",
    "        continue\n",
    "    print(f\"{i}\")\n",
    "\n",
    "\n",
    "\n"
   ]
  },
  {
   "cell_type": "code",
   "execution_count": 40,
   "id": "4b4bdc42",
   "metadata": {},
   "outputs": [
    {
     "name": "stdout",
     "output_type": "stream",
     "text": [
      "0\n",
      "1\n",
      "2\n",
      "3\n",
      "4\n",
      "5\n",
      "6\n",
      "7\n",
      "8\n",
      "9\n",
      "range(0,10)\n",
      "0\n",
      "1\n",
      "2\n",
      "3\n",
      "4\n",
      "5\n",
      "6\n",
      "7\n",
      "8\n",
      "9\n",
      "range(0,10,1)\n",
      "0\n",
      "1\n",
      "2\n",
      "3\n",
      "4\n",
      "5\n",
      "6\n",
      "7\n",
      "8\n",
      "9\n"
     ]
    }
   ],
   "source": [
    "#11. In a for loop, what is the difference between range(10), range(0, 10), and range(0, 10, 1)?\n",
    "#Ans =\n",
    "for i in range(10):\n",
    "    print(i)\n",
    "print(\"range(0,10)\") \n",
    "for i in range(0,10):\n",
    "    print(i)\n",
    "print(\"range(0,10,1)\")\n",
    "for i in range(0,10,1):\n",
    "    print(i)\n",
    "\n",
    "\n"
   ]
  },
  {
   "cell_type": "code",
   "execution_count": 37,
   "id": "373ea8f5",
   "metadata": {},
   "outputs": [
    {
     "name": "stdout",
     "output_type": "stream",
     "text": [
      "1\n",
      "2\n",
      "3\n",
      "4\n",
      "5\n",
      "6\n",
      "7\n",
      "8\n",
      "9\n",
      "10\n",
      "using while loop\n",
      "1\n",
      "2\n",
      "3\n",
      "4\n",
      "5\n",
      "6\n",
      "7\n",
      "8\n",
      "9\n",
      "10\n"
     ]
    }
   ],
   "source": [
    "#12. Write a short program that prints the numbers 1 to 10 using a for loop. Then write an equivalent\n",
    "#program that prints the numbers 1 to 10 using a while loop.\n",
    "\n",
    "#Ans = using For loop\n",
    "\n",
    "for i in range(1, 11):\n",
    "    print(i)\n",
    "\n",
    "\n",
    "print(\"using while loop\")\n",
    "\n",
    "# using while loop  \n",
    "a=1\n",
    "b=10\n",
    "\n",
    "while a<=b :\n",
    "    print(a)\n",
    "    a = a+1"
   ]
  },
  {
   "cell_type": "code",
   "execution_count": null,
   "id": "fd21b5bf",
   "metadata": {},
   "outputs": [],
   "source": [
    "13. If you had a function named bacon() inside a module named spam, how would you call it after\n",
    "importing spam?\n",
    "Ans = This function can be called with spam.bacon()."
   ]
  }
 ],
 "metadata": {
  "kernelspec": {
   "display_name": "Python 3 (ipykernel)",
   "language": "python",
   "name": "python3"
  },
  "language_info": {
   "codemirror_mode": {
    "name": "ipython",
    "version": 3
   },
   "file_extension": ".py",
   "mimetype": "text/x-python",
   "name": "python",
   "nbconvert_exporter": "python",
   "pygments_lexer": "ipython3",
   "version": "3.9.7"
  }
 },
 "nbformat": 4,
 "nbformat_minor": 5
}
